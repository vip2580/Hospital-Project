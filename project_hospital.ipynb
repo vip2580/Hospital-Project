{
 "cells": [
  {
   "cell_type": "code",
   "execution_count": 8,
   "id": "af5f4074",
   "metadata": {},
   "outputs": [
    {
     "name": "stdout",
     "output_type": "stream",
     "text": [
      "*******************************************************************************************************************************\n",
      "*******************************************************************************************************************************\n",
      "                                                Welcome to Ciy hospital                                                 \n",
      "*******************************************************************************************************************************\n",
      "*******************************************************************************************************************************\n",
      "Do you want to login(y/n) y\n",
      "enter ID--> hitesh1234\n",
      "enter password--> rahul188a@1\n",
      "\n",
      "\n",
      "you are logged in sucessfully\n",
      "1. Manage Patient\n",
      " 2. Manage doctor\n",
      " 3. Manage nurse\n",
      " 4. log out\n",
      " enter your choice(1-4)\n",
      "1\n",
      "enter patient name p1\n",
      "room no of p1 is  1002\n",
      "current doctors of p1 is  dr shivam malik\n",
      "do you want to continue(y/n) n\n",
      "enter ID--> df\n",
      "Id is wrong \n",
      "do you want to continue(y/n) n\n"
     ]
    }
   ],
   "source": [
    "print(\"*\"*127)\n",
    "print(\"*\"*127)\n",
    "print(\"Welcome to Ciy hospital\".center(120))\n",
    "print(\"*\"*127)\n",
    "print(\"*\"*127)\n",
    "i_d= \"himanshu1234\"\n",
    "passwd= \"Shekhawat@24\"\n",
    "login=input(\"Do you want to login(y/n) \")\n",
    "if login== \"y\" or login==\"yes\":\n",
    "    while True:\n",
    "        hos_id=input(\"enter ID--> \")\n",
    "        \n",
    "        if hos_id==i_d:\n",
    "            pass_word=input(\"enter password--> \")\n",
    "            print(\"\\n\")\n",
    "            if pass_word==passwd:\n",
    "                print(\"you are logged in sucessfully\")\n",
    "                while True:\n",
    "                    manage= input(\"1. Manage Patient\\n 2. Manage doctor\\n 3. Manage nurse\\n 4. log out\\n enter your choice(1-4)\\n\")\n",
    "                    if manage==\"1\":\n",
    "                        patient= input(\"enter patient name \")\n",
    "                        index2= pateints_info[\"name\"].index(patient)\n",
    "                        if patient in pateints_info[\"name\"]:\n",
    "                            print(f\"room no of {patient} is \",pateints_info[\"room_no\"][index2])\n",
    "                            print(f\"current doctors of {patient} is \",pateints_info[\"doctor\"][index2])\n",
    "                            patient2= input(\"do you want to continue(y/n) \")\n",
    "                            if patient2==\"yes\" or patient==\"y\":\n",
    "                                continue\n",
    "                            else:\n",
    "                                break\n",
    "                    elif manage==\"2\":\n",
    "                        doctor= input(\"enter doctor name \")\n",
    "                        index1= doctor_info[\"name\"].index(doctor)\n",
    "                        if doctor in doctor_info[\"name\"]:\n",
    "                            print(f\"salary of {doctor} is \", doctor_info[\"salary\"][index1])\n",
    "                            print(f\"qualifications of {doctor} is \", doctor_info[\"qualifications\"][index1])\n",
    "                            doctor3= input(\"do you want to continue(y/n) \")\n",
    "                            if doctor3==\"yes\" or doctor3==\"y\":\n",
    "                                continue\n",
    "                            else:\n",
    "                                break\n",
    "                        else:\n",
    "                            continue\n",
    "                    elif manage==\"3\":\n",
    "                        name= input(\"enter the name of nurse \")\n",
    "                        index= nurse_info[\"Name\"].index(name)\n",
    "                        if name in nurse_info[\"Name\"]:\n",
    "                            print(f\"salary of {name} is \", nurse_info[\"salary\"][index])\n",
    "                            print(f\"current pateints of {name} is \",nurse_info[\"current pateints\"][index])\n",
    "                            nurse5=input(\"do you want to continue(y/n) \")\n",
    "                            if nurse5==\"yes\"or nurse5==\"y\":\n",
    "                                continue\n",
    "                            else:\n",
    "                                break\n",
    "                            \n",
    "                        else:\n",
    "                            continue\n",
    "                    elif manage==\"4\":\n",
    "                        n6= input(\"do you really want to log out(y/n) \")\n",
    "                        if n6==\"yes\" or n6==\"y\":\n",
    "                            print(\"successfully logged out \")\n",
    "                            break\n",
    "                        else:\n",
    "                            continue\n",
    "                    break\n",
    "            else:\n",
    "                print(\"password is wrong\")\n",
    "                passwrong= input(\"do you want to continue(y/n) \")\n",
    "                if passwrong==\"n\" or passwrong==\"no\":\n",
    "                    break\n",
    "                else:\n",
    "                    continue\n",
    "        else:\n",
    "            print(\"Id is wrong \")\n",
    "            cont= input(\"do you want to continue(y/n) \")\n",
    "            if cont==\"n\" or cont==\"no\":\n",
    "                break\n",
    "            else:\n",
    "                continue\n",
    "  #  print(\"you are logged in sucessfully\")\n",
    "elif login==\"n\" or login==\"no\":\n",
    "        print(\"thank you for giving us time\")\n",
    "else:\n",
    "    print(\"id or password is wrong \")\n",
    "\n",
    "\n"
   ]
  },
  {
   "cell_type": "code",
   "execution_count": 1,
   "id": "229ee5bd",
   "metadata": {},
   "outputs": [],
   "source": [
    "nurse_info= {\"Name\": [\"shuruti hasan\" , \"dimple lalwani\" , \"kashish lalwani\", \"diya joshi\"],\n",
    "             \"salary\":[25000, 23000, 20000, 19000],\n",
    "             \"current pateints\":[ 1 , 2 , 1 , 0]}"
   ]
  },
  {
   "cell_type": "code",
   "execution_count": 4,
   "id": "499f6341",
   "metadata": {},
   "outputs": [
    {
     "name": "stdout",
     "output_type": "stream",
     "text": [
      "{'Name': ['shuruti hasan', 'dimple lalwani', 'kashish lalwani', 'diya joshi'], 'salary': [25000, 23000, 20000, 19000], 'current pateints': [1, 2, 1, 0]}\n"
     ]
    }
   ],
   "source": [
    "print(nurse_info)"
   ]
  },
  {
   "cell_type": "code",
   "execution_count": 31,
   "id": "f4207205",
   "metadata": {},
   "outputs": [
    {
     "name": "stdout",
     "output_type": "stream",
     "text": [
      "1\n"
     ]
    }
   ],
   "source": [
    "s= nurse_info[\"Name\"].index(\"dimple Lalwani\")\n",
    "print(s)"
   ]
  },
  {
   "cell_type": "code",
   "execution_count": 2,
   "id": "6bcf842f",
   "metadata": {},
   "outputs": [],
   "source": [
    "doctor_info={\"name\": [\"dr shivam malik\", \"dr smiti irani\", \"dr nk mathur\", \"dr ashok lalwani\"],\n",
    "            \"salary\": [50000, 47000, 33000, 60000],\n",
    "            \"qualifications\": [\"M.B.B.S\", \"M.SC , M.B.B.S\", \"M.D, M.B.B.S\", \"M.SC, M.B.B.S, M.D\"]}"
   ]
  },
  {
   "cell_type": "code",
   "execution_count": 6,
   "id": "4945270e",
   "metadata": {},
   "outputs": [
    {
     "name": "stdout",
     "output_type": "stream",
     "text": [
      "{'name': ['dr shivam malik', 'dr smiti irani', 'dr nk mathur', 'dr ashok lalwani'], 'salary': [50000, 47000, 33000, 60000], 'qualifications': ['M.B.B.S', 'M.SC , M.B.B.S', 'M.D, M.B.B.S', 'M.SC, M.B.B.S, M.D']}\n"
     ]
    }
   ],
   "source": [
    "print(doctor_info)"
   ]
  },
  {
   "cell_type": "code",
   "execution_count": 8,
   "id": "711bb8e5",
   "metadata": {},
   "outputs": [
    {
     "data": {
      "text/plain": [
       "1"
      ]
     },
     "execution_count": 8,
     "metadata": {},
     "output_type": "execute_result"
    }
   ],
   "source": [
    "doctor_info[\"name\"].index(\"dr smiti irani\")"
   ]
  },
  {
   "cell_type": "code",
   "execution_count": 5,
   "id": "1f31f484",
   "metadata": {},
   "outputs": [],
   "source": [
    "pateints_info= {\"name\": [\"p1\", \"p2\", \"p3\", \"p4\"],\n",
    "               \"room_no\": [1002, 1003, 1004, 1005 ],\n",
    "               \"doctor\": [\"dr shivam malik\", \"dr nk mathur\",\"dr ashok lalwani\",\"dr smiti irani\"]}"
   ]
  },
  {
   "cell_type": "code",
   "execution_count": null,
   "id": "76d9adbf",
   "metadata": {},
   "outputs": [],
   "source": []
  }
 ],
 "metadata": {
  "kernelspec": {
   "display_name": "Python 3.9.1 64-bit",
   "language": "python",
   "name": "python3"
  },
  "language_info": {
   "codemirror_mode": {
    "name": "ipython",
    "version": 3
   },
   "file_extension": ".py",
   "mimetype": "text/x-python",
   "name": "python",
   "nbconvert_exporter": "python",
   "pygments_lexer": "ipython3",
   "version": "3.9.1"
  },
  "vscode": {
   "interpreter": {
    "hash": "888a37148e1b8557de009c767696977fc02d762bd3af8b7e6cd9b05f074501fa"
   }
  }
 },
 "nbformat": 4,
 "nbformat_minor": 5
}
